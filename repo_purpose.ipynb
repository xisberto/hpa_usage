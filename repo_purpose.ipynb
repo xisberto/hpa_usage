{
 "cells": [
  {
   "cell_type": "markdown",
   "metadata": {},
   "source": [
    "# Repos Purposes\n",
    "\n",
    "Utiliza a API da OpenAI para analisar os repositórios identificados, buscando identificar seu propósito."
   ]
  },
  {
   "cell_type": "code",
   "execution_count": 1,
   "metadata": {},
   "outputs": [],
   "source": [
    "import re\n",
    "import os\n",
    "import json\n",
    "import glob\n",
    "import base64\n",
    "\n",
    "from openai import OpenAI\n",
    "import pandas as pd\n",
    "from dotenv import dotenv_values\n",
    "from ghapi.core import GhApi, HTTP404NotFoundError\n",
    "\n",
    "import utils"
   ]
  },
  {
   "cell_type": "code",
   "execution_count": 2,
   "metadata": {},
   "outputs": [],
   "source": [
    "config = {\n",
    "  **os.environ,\n",
    "  **dotenv_values(\".env\")\n",
    "}\n",
    "\n",
    "github = GhApi(token=config['GITHUB_TOKEN'])\n",
    "\n",
    "openai_client = OpenAI(\n",
    "  api_key=config['OPENAI_KEY']\n",
    ")"
   ]
  },
  {
   "cell_type": "code",
   "execution_count": null,
   "metadata": {},
   "outputs": [],
   "source": [
    "def get_repo_details(owner, repo):\n",
    "  while github.rate_limit.get()['resources']['core']['remaining'] <= 0:\n",
    "    print(\"get_repo_details waiting for limit\")\n",
    "    time.sleep(1)\n",
    "  return github.repos.get(owner, repo)\n",
    "\n",
    "def get_readme_snippet(owner, repo, max_chars=500):\n",
    "  while github.rate_limit.get()['resources']['core']['remaining'] <= 0:\n",
    "    print(\"get_readme_snippet waiting for limit\")\n",
    "    time.sleep(1)\n",
    "  try:\n",
    "    response = github.repos.get_readme(owner, repo)\n",
    "    return base64.b64decode(response['content']).decode('utf-8', errors='ignore')[:max_chars]\n",
    "  except HTTP404NotFoundError:\n",
    "    return \"\"\n",
    "\n",
    "def get_repo_insights(repo_details, readme_snippet, prompt):\n",
    "  repo_summary = f\"\"\"\n",
    "  Repo Name: {repo_details['name']}\n",
    "  Owner: {repo_details['owner']['login']} (Type: {repo_details['owner']['type']})\n",
    "  Description: {repo_details['description']}\n",
    "  Primary Language: {repo_details['language']}\n",
    "  Stars: {repo_details['stargazers_count']}\n",
    "  License: {repo_details['license']['name'] if repo_details['license'] else 'None'}\n",
    "  Fork: {repo_details['fork']}\n",
    "  Created At: {repo_details['created_at']}\n",
    "  Readme Snippet: {readme_snippet}\n",
    "  \"\"\"\n",
    "\n",
    "  messages = [\n",
    "    {\n",
    "      \"role\": \"system\",\n",
    "      \"content\": prompt\n",
    "    },\n",
    "    {\n",
    "      \"role\": \"user\",\n",
    "      \"content\": repo_summary\n",
    "    }\n",
    "  ]\n",
    "\n",
    "  response = openai_client.chat.completions.create(\n",
    "    model=\"gpt-3.5-turbo\",\n",
    "    messages=messages,\n",
    "    temperature=0.0\n",
    "  )\n",
    "\n",
    "  return response.choices[0].message.content\n",
    "\n",
    "def add_insights(line, prompt):\n",
    "  owner, repo = re.split(r'/', line['repo_name'])\n",
    "  print(f\"{owner}/{repo}\")\n",
    "\n",
    "  details = get_repo_details(owner, repo)\n",
    "  readme = get_readme_snippet(owner, repo)\n",
    "  \n",
    "  insights = get_repo_insights(details, readme, prompt)\n",
    "  return pd.Series(json.loads(insights))"
   ]
  },
  {
   "cell_type": "markdown",
   "metadata": {},
   "source": [
    "## Carrega as pesquisas já salvas"
   ]
  },
  {
   "cell_type": "code",
   "execution_count": 9,
   "metadata": {},
   "outputs": [
    {
     "name": "stdout",
     "output_type": "stream",
     "text": [
      "Encontrados 3179 arquivos em 2579 repositórios\n"
     ]
    }
   ],
   "source": [
    "df_search = utils.load_results()\n",
    "\n",
    "print(f\"Encontrados {df_search.shape[0]} arquivos em {len(df_search['repo_name'].unique())} repositórios\")"
   ]
  },
  {
   "cell_type": "markdown",
   "metadata": {},
   "source": [
    "## Explorando uma amostra dos repositórios\n",
    "\n",
    "O objetivo é consumir apenas um pouco das APIs e estabelecer algumas categorias de repositório para posterior categorização completa."
   ]
  },
  {
   "cell_type": "code",
   "execution_count": 21,
   "metadata": {},
   "outputs": [],
   "source": [
    "df_explore = df_search.sample(5)"
   ]
  },
  {
   "cell_type": "code",
   "execution_count": 27,
   "metadata": {},
   "outputs": [
    {
     "name": "stdout",
     "output_type": "stream",
     "text": [
      "PacktPublishing/The-Kubernetes-Bible-Second-Edition\n",
      "get_repo_insights asking for insights\n",
      "get_repo_insights returning insights\n",
      "passmarked/vnu\n",
      "get_repo_insights asking for insights\n",
      "get_repo_insights returning insights\n",
      "willbossle/LINUXtips-PICK\n",
      "get_repo_insights asking for insights\n",
      "get_repo_insights returning insights\n",
      "corezoid/helm\n",
      "get_repo_insights asking for insights\n",
      "get_repo_insights returning insights\n",
      "kyw613/QnABoard-k8s\n",
      "get_repo_insights asking for insights\n",
      "get_repo_insights returning insights\n"
     ]
    }
   ],
   "source": [
    "\n",
    "explore_prompt = \"\"\"Generate a brief summary of a GitHub repository's purpose and assign a one-word category to classify its objective. Focus on achieving consistency by clearly identifying the intended purpose.\n",
    "\n",
    "# Additional details\n",
    "\n",
    "Identify the author's objective with their project and classify it using an appropriate open-ended category. Avoid vague categories that do not clearly define the project’s purpose.\n",
    "\n",
    "# Output Format\n",
    "\n",
    "Output as a JSON object with the following fields:\n",
    "- purpose: (brief text summary)\n",
    "- category: (one-word category that best describes the project) \n",
    "\n",
    "# Examples [optional]\n",
    "\n",
    "If needed: \n",
    "- Input: [Repository details or brief description]\n",
    "- Output: { \"purpose\": \"Brief summary of project\", \"category\": \"OpenSource\" }\n",
    "\n",
    "# Notes\n",
    "\n",
    "Ensure that the chosen category clearly and accurately reflects the project's purpose and intent.\"\"\"\n",
    "\n",
    "df_explore[['purpose', 'category']] = df_explore.apply(add_insights, axis='columns', args=(explore_prompt, ))"
   ]
  },
  {
   "cell_type": "code",
   "execution_count": 28,
   "metadata": {},
   "outputs": [
    {
     "data": {
      "text/html": [
       "<div>\n",
       "<style scoped>\n",
       "    .dataframe tbody tr th:only-of-type {\n",
       "        vertical-align: middle;\n",
       "    }\n",
       "\n",
       "    .dataframe tbody tr th {\n",
       "        vertical-align: top;\n",
       "    }\n",
       "\n",
       "    .dataframe thead th {\n",
       "        text-align: right;\n",
       "    }\n",
       "</style>\n",
       "<table border=\"1\" class=\"dataframe\">\n",
       "  <thead>\n",
       "    <tr style=\"text-align: right;\">\n",
       "      <th></th>\n",
       "      <th>repo_name</th>\n",
       "      <th>file_path</th>\n",
       "      <th>url</th>\n",
       "      <th>purpose</th>\n",
       "      <th>category</th>\n",
       "    </tr>\n",
       "  </thead>\n",
       "  <tbody>\n",
       "    <tr>\n",
       "      <th>986</th>\n",
       "      <td>PacktPublishing/The-Kubernetes-Bible-Second-Ed...</td>\n",
       "      <td>Chapter20/hpa/todo-hpa.yaml</td>\n",
       "      <td>https://github.com/PacktPublishing/The-Kuberne...</td>\n",
       "      <td>A comprehensive guide to Kubernetes, focusing ...</td>\n",
       "      <td>Educational</td>\n",
       "    </tr>\n",
       "    <tr>\n",
       "      <th>82</th>\n",
       "      <td>passmarked/vnu</td>\n",
       "      <td>kube.yaml</td>\n",
       "      <td>https://github.com/passmarked/vnu/blob/38e1e9d...</td>\n",
       "      <td>Service running a static build of W3C validato...</td>\n",
       "      <td>Validation</td>\n",
       "    </tr>\n",
       "    <tr>\n",
       "      <th>980</th>\n",
       "      <td>willbossle/LINUXtips-PICK</td>\n",
       "      <td>giropops-senhas-chart/templates/hpa.yaml</td>\n",
       "      <td>https://github.com/willbossle/LINUXtips-PICK/b...</td>\n",
       "      <td>A challenge project related to LINUXtips-PICK ...</td>\n",
       "      <td>Educational</td>\n",
       "    </tr>\n",
       "    <tr>\n",
       "      <th>495</th>\n",
       "      <td>corezoid/helm</td>\n",
       "      <td>corezoid/charts/conf-agent-server/templates/co...</td>\n",
       "      <td>https://github.com/corezoid/helm/blob/6b79af7c...</td>\n",
       "      <td>Corezoid Helm Charts for managing applications...</td>\n",
       "      <td>DevOps</td>\n",
       "    </tr>\n",
       "    <tr>\n",
       "      <th>410</th>\n",
       "      <td>kyw613/QnABoard-k8s</td>\n",
       "      <td>final/front-hpa.yaml</td>\n",
       "      <td>https://github.com/kyw613/QnABoard-k8s/blob/2c...</td>\n",
       "      <td>QnABoard-k8s is a Kubernetes-based question an...</td>\n",
       "      <td>Q&amp;A</td>\n",
       "    </tr>\n",
       "  </tbody>\n",
       "</table>\n",
       "</div>"
      ],
      "text/plain": [
       "                                             repo_name  \\\n",
       "986  PacktPublishing/The-Kubernetes-Bible-Second-Ed...   \n",
       "82                                      passmarked/vnu   \n",
       "980                          willbossle/LINUXtips-PICK   \n",
       "495                                      corezoid/helm   \n",
       "410                                kyw613/QnABoard-k8s   \n",
       "\n",
       "                                             file_path  \\\n",
       "986                        Chapter20/hpa/todo-hpa.yaml   \n",
       "82                                           kube.yaml   \n",
       "980           giropops-senhas-chart/templates/hpa.yaml   \n",
       "495  corezoid/charts/conf-agent-server/templates/co...   \n",
       "410                               final/front-hpa.yaml   \n",
       "\n",
       "                                                   url  \\\n",
       "986  https://github.com/PacktPublishing/The-Kuberne...   \n",
       "82   https://github.com/passmarked/vnu/blob/38e1e9d...   \n",
       "980  https://github.com/willbossle/LINUXtips-PICK/b...   \n",
       "495  https://github.com/corezoid/helm/blob/6b79af7c...   \n",
       "410  https://github.com/kyw613/QnABoard-k8s/blob/2c...   \n",
       "\n",
       "                                               purpose     category  \n",
       "986  A comprehensive guide to Kubernetes, focusing ...  Educational  \n",
       "82   Service running a static build of W3C validato...   Validation  \n",
       "980  A challenge project related to LINUXtips-PICK ...  Educational  \n",
       "495  Corezoid Helm Charts for managing applications...       DevOps  \n",
       "410  QnABoard-k8s is a Kubernetes-based question an...          Q&A  "
      ]
     },
     "execution_count": 28,
     "metadata": {},
     "output_type": "execute_result"
    }
   ],
   "source": [
    "df_explore"
   ]
  }
 ],
 "metadata": {
  "kernelspec": {
   "display_name": ".venv",
   "language": "python",
   "name": "python3"
  },
  "language_info": {
   "codemirror_mode": {
    "name": "ipython",
    "version": 3
   },
   "file_extension": ".py",
   "mimetype": "text/x-python",
   "name": "python",
   "nbconvert_exporter": "python",
   "pygments_lexer": "ipython3",
   "version": "3.13.1"
  }
 },
 "nbformat": 4,
 "nbformat_minor": 2
}
